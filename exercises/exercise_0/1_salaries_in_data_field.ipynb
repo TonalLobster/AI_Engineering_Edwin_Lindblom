{
 "cells": [
  {
   "cell_type": "markdown",
   "id": "68f26dec",
   "metadata": {},
   "source": [
    "# Salaries in data field\n",
    "\n",
    "URL: https://www.kaggle.com/datasets/adilshamim8/salaries-for-data-science-jobs\n",
    "\n",
    "Go to kaggle and download this dataset on job salaries in the data field. In this exercise it is many cases easier to solve the exercises if you combine duckdb with pandas for analysis.\n",
    "\n",
    "  a) Start with some simple EDA, check summary statistics, info, columns etc\n",
    "\n",
    "  b) Plot the distribution of the salaries in USD.\n",
    "\n",
    "  c) How many job postings are there for each job title? Take the tenth most common job title and plot a bar chart of the number of job postings for that title.\n",
    "\n",
    "  d) Create a dataframe that contains the following columns: job_title, experience_level, median_salary_usd, mean_salary_usd, mean_salary_sek. Sort the dataframe by mean_salary_sek.\n",
    "\n",
    "  f) Create a column with salary in SEK per month and make the distribution of salaries in SEK per month for all job postings\n",
    "\n",
    "  g) Now create distributions of monthly SEK based on different experience levels, do you see any trends?\n",
    "\n",
    "  h) Find median monthly swedish salary for more common job_titles. Think what common may mean here.\n",
    "\n",
    "  i) Join the country_codes.csv to the dataset get the actual country names. Find the median monthly salary in SEK for each country and the number of job postings."
   ]
  },
  {
   "cell_type": "markdown",
   "id": "5a7a8390",
   "metadata": {},
   "source": [
    "## Column Descriptions:\n",
    "#### work_year\n",
    "The year the salary was reported. Covers salaries from 2020 through 2025.\n",
    "\n",
    "#### experience_level\n",
    "The seniority level of the employee at the time of reporting. Common values include:\n",
    "\n",
    "EN: Entry-level / Junior\n",
    "MI: Mid-level / Intermediate\n",
    "SE: Senior-level\n",
    "EX: Executive / Director\n",
    "\n",
    "#### employment_type\n",
    "The type of employment contract:\n",
    "\n",
    "FT: Full-time\n",
    "PT: Part-time\n",
    "CT: Contract\n",
    "FL: Freelance\n",
    "#### job_title\n",
    "The employee’s specific job title (e.g., Data Scientist, ML Engineer, AI Specialist, Research Scientist).\n",
    "\n",
    "#### salary\n",
    "The employee's gross annual salary in the original reported currency, before taxes and deductions.\n",
    "\n",
    "#### salary_currency\n",
    "The currency in which the salary was originally paid (e.g., USD, EUR, INR).\n",
    "\n",
    "#### salary_in_usd\n",
    "The employee's salary converted into USD using 2025 exchange rates for standardized comparison.\n",
    "\n",
    "#### employee_residence\n",
    "The country (ISO 3166-1 alpha-2 code) where the employee resides. This may differ from the company location, especially in remote roles.\n",
    "\n",
    "#### remote_ratio\n",
    "Indicates the percentage of remote work:\n",
    "\n",
    "0: No remote work (On-site)\n",
    "50: Hybrid (partially remote)\n",
    "100: Fully remote\n",
    "company_location\n",
    "The country (ISO 3166-1 alpha-2 code) where the company or employer is headquartered.\n",
    "\n",
    "#### company_size\n",
    "The size of the employing organization:\n",
    "\n",
    "S: Small (1–50 employees)\n",
    "M: Medium (51–500 employees)\n",
    "L: Large (501+ employees)"
   ]
  },
  {
   "cell_type": "markdown",
   "id": "e0da2525",
   "metadata": {},
   "source": [
    "exercises below:"
   ]
  },
  {
   "cell_type": "markdown",
   "id": "2731dec1",
   "metadata": {},
   "source": [
    "#### a) simple EDA"
   ]
  },
  {
   "cell_type": "code",
   "execution_count": 2,
   "id": "c260fa30",
   "metadata": {},
   "outputs": [
    {
     "data": {
      "text/html": [
       "<div>\n",
       "<style scoped>\n",
       "    .dataframe tbody tr th:only-of-type {\n",
       "        vertical-align: middle;\n",
       "    }\n",
       "\n",
       "    .dataframe tbody tr th {\n",
       "        vertical-align: top;\n",
       "    }\n",
       "\n",
       "    .dataframe thead th {\n",
       "        text-align: right;\n",
       "    }\n",
       "</style>\n",
       "<table border=\"1\" class=\"dataframe\">\n",
       "  <thead>\n",
       "    <tr style=\"text-align: right;\">\n",
       "      <th></th>\n",
       "      <th>work_year</th>\n",
       "      <th>experience_level</th>\n",
       "      <th>employment_type</th>\n",
       "      <th>job_title</th>\n",
       "      <th>salary</th>\n",
       "      <th>salary_currency</th>\n",
       "      <th>salary_in_usd</th>\n",
       "      <th>employee_residence</th>\n",
       "      <th>remote_ratio</th>\n",
       "      <th>company_location</th>\n",
       "      <th>company_size</th>\n",
       "    </tr>\n",
       "  </thead>\n",
       "  <tbody>\n",
       "    <tr>\n",
       "      <th>0</th>\n",
       "      <td>2025</td>\n",
       "      <td>EX</td>\n",
       "      <td>FT</td>\n",
       "      <td>Head of Data</td>\n",
       "      <td>348516</td>\n",
       "      <td>USD</td>\n",
       "      <td>348516</td>\n",
       "      <td>US</td>\n",
       "      <td>0</td>\n",
       "      <td>US</td>\n",
       "      <td>M</td>\n",
       "    </tr>\n",
       "    <tr>\n",
       "      <th>1</th>\n",
       "      <td>2025</td>\n",
       "      <td>EX</td>\n",
       "      <td>FT</td>\n",
       "      <td>Head of Data</td>\n",
       "      <td>232344</td>\n",
       "      <td>USD</td>\n",
       "      <td>232344</td>\n",
       "      <td>US</td>\n",
       "      <td>0</td>\n",
       "      <td>US</td>\n",
       "      <td>M</td>\n",
       "    </tr>\n",
       "    <tr>\n",
       "      <th>2</th>\n",
       "      <td>2025</td>\n",
       "      <td>SE</td>\n",
       "      <td>FT</td>\n",
       "      <td>Data Scientist</td>\n",
       "      <td>145400</td>\n",
       "      <td>USD</td>\n",
       "      <td>145400</td>\n",
       "      <td>US</td>\n",
       "      <td>0</td>\n",
       "      <td>US</td>\n",
       "      <td>M</td>\n",
       "    </tr>\n",
       "    <tr>\n",
       "      <th>3</th>\n",
       "      <td>2025</td>\n",
       "      <td>SE</td>\n",
       "      <td>FT</td>\n",
       "      <td>Data Scientist</td>\n",
       "      <td>81600</td>\n",
       "      <td>USD</td>\n",
       "      <td>81600</td>\n",
       "      <td>US</td>\n",
       "      <td>0</td>\n",
       "      <td>US</td>\n",
       "      <td>M</td>\n",
       "    </tr>\n",
       "    <tr>\n",
       "      <th>4</th>\n",
       "      <td>2025</td>\n",
       "      <td>MI</td>\n",
       "      <td>FT</td>\n",
       "      <td>Engineer</td>\n",
       "      <td>160000</td>\n",
       "      <td>USD</td>\n",
       "      <td>160000</td>\n",
       "      <td>US</td>\n",
       "      <td>100</td>\n",
       "      <td>US</td>\n",
       "      <td>M</td>\n",
       "    </tr>\n",
       "  </tbody>\n",
       "</table>\n",
       "</div>"
      ],
      "text/plain": [
       "   work_year experience_level employment_type       job_title  salary  \\\n",
       "0       2025               EX              FT    Head of Data  348516   \n",
       "1       2025               EX              FT    Head of Data  232344   \n",
       "2       2025               SE              FT  Data Scientist  145400   \n",
       "3       2025               SE              FT  Data Scientist   81600   \n",
       "4       2025               MI              FT        Engineer  160000   \n",
       "\n",
       "  salary_currency  salary_in_usd employee_residence  remote_ratio  \\\n",
       "0             USD         348516                 US             0   \n",
       "1             USD         232344                 US             0   \n",
       "2             USD         145400                 US             0   \n",
       "3             USD          81600                 US             0   \n",
       "4             USD         160000                 US           100   \n",
       "\n",
       "  company_location company_size  \n",
       "0               US            M  \n",
       "1               US            M  \n",
       "2               US            M  \n",
       "3               US            M  \n",
       "4               US            M  "
      ]
     },
     "execution_count": 2,
     "metadata": {},
     "output_type": "execute_result"
    }
   ],
   "source": [
    "import pandas as pd\n",
    "\n",
    "# Load the dataset\n",
    "df = pd.read_csv(\"../../data/salaries.csv\")\n",
    "df.head()"
   ]
  },
  {
   "cell_type": "code",
   "execution_count": 3,
   "id": "febbed69",
   "metadata": {},
   "outputs": [
    {
     "name": "stdout",
     "output_type": "stream",
     "text": [
      "<class 'pandas.core.frame.DataFrame'>\n",
      "RangeIndex: 151445 entries, 0 to 151444\n",
      "Data columns (total 11 columns):\n",
      " #   Column              Non-Null Count   Dtype \n",
      "---  ------              --------------   ----- \n",
      " 0   work_year           151445 non-null  int64 \n",
      " 1   experience_level    151445 non-null  object\n",
      " 2   employment_type     151445 non-null  object\n",
      " 3   job_title           151445 non-null  object\n",
      " 4   salary              151445 non-null  int64 \n",
      " 5   salary_currency     151445 non-null  object\n",
      " 6   salary_in_usd       151445 non-null  int64 \n",
      " 7   employee_residence  151445 non-null  object\n",
      " 8   remote_ratio        151445 non-null  int64 \n",
      " 9   company_location    151445 non-null  object\n",
      " 10  company_size        151445 non-null  object\n",
      "dtypes: int64(4), object(7)\n",
      "memory usage: 12.7+ MB\n"
     ]
    }
   ],
   "source": [
    "df.info()"
   ]
  },
  {
   "cell_type": "code",
   "execution_count": 4,
   "id": "9847dc0a",
   "metadata": {},
   "outputs": [
    {
     "data": {
      "text/html": [
       "<div>\n",
       "<style scoped>\n",
       "    .dataframe tbody tr th:only-of-type {\n",
       "        vertical-align: middle;\n",
       "    }\n",
       "\n",
       "    .dataframe tbody tr th {\n",
       "        vertical-align: top;\n",
       "    }\n",
       "\n",
       "    .dataframe thead th {\n",
       "        text-align: right;\n",
       "    }\n",
       "</style>\n",
       "<table border=\"1\" class=\"dataframe\">\n",
       "  <thead>\n",
       "    <tr style=\"text-align: right;\">\n",
       "      <th></th>\n",
       "      <th>work_year</th>\n",
       "      <th>salary</th>\n",
       "      <th>salary_in_usd</th>\n",
       "      <th>remote_ratio</th>\n",
       "    </tr>\n",
       "  </thead>\n",
       "  <tbody>\n",
       "    <tr>\n",
       "      <th>count</th>\n",
       "      <td>151445.000000</td>\n",
       "      <td>1.514450e+05</td>\n",
       "      <td>151445.000000</td>\n",
       "      <td>151445.000000</td>\n",
       "    </tr>\n",
       "    <tr>\n",
       "      <th>mean</th>\n",
       "      <td>2024.435313</td>\n",
       "      <td>1.628380e+05</td>\n",
       "      <td>157527.458411</td>\n",
       "      <td>20.938625</td>\n",
       "    </tr>\n",
       "    <tr>\n",
       "      <th>std</th>\n",
       "      <td>0.671842</td>\n",
       "      <td>2.080124e+05</td>\n",
       "      <td>74150.772377</td>\n",
       "      <td>40.620393</td>\n",
       "    </tr>\n",
       "    <tr>\n",
       "      <th>min</th>\n",
       "      <td>2020.000000</td>\n",
       "      <td>1.400000e+04</td>\n",
       "      <td>15000.000000</td>\n",
       "      <td>0.000000</td>\n",
       "    </tr>\n",
       "    <tr>\n",
       "      <th>25%</th>\n",
       "      <td>2024.000000</td>\n",
       "      <td>1.060000e+05</td>\n",
       "      <td>105800.000000</td>\n",
       "      <td>0.000000</td>\n",
       "    </tr>\n",
       "    <tr>\n",
       "      <th>50%</th>\n",
       "      <td>2025.000000</td>\n",
       "      <td>1.470000e+05</td>\n",
       "      <td>146100.000000</td>\n",
       "      <td>0.000000</td>\n",
       "    </tr>\n",
       "    <tr>\n",
       "      <th>75%</th>\n",
       "      <td>2025.000000</td>\n",
       "      <td>1.990000e+05</td>\n",
       "      <td>198000.000000</td>\n",
       "      <td>0.000000</td>\n",
       "    </tr>\n",
       "    <tr>\n",
       "      <th>max</th>\n",
       "      <td>2025.000000</td>\n",
       "      <td>3.040000e+07</td>\n",
       "      <td>800000.000000</td>\n",
       "      <td>100.000000</td>\n",
       "    </tr>\n",
       "  </tbody>\n",
       "</table>\n",
       "</div>"
      ],
      "text/plain": [
       "           work_year        salary  salary_in_usd   remote_ratio\n",
       "count  151445.000000  1.514450e+05  151445.000000  151445.000000\n",
       "mean     2024.435313  1.628380e+05  157527.458411      20.938625\n",
       "std         0.671842  2.080124e+05   74150.772377      40.620393\n",
       "min      2020.000000  1.400000e+04   15000.000000       0.000000\n",
       "25%      2024.000000  1.060000e+05  105800.000000       0.000000\n",
       "50%      2025.000000  1.470000e+05  146100.000000       0.000000\n",
       "75%      2025.000000  1.990000e+05  198000.000000       0.000000\n",
       "max      2025.000000  3.040000e+07  800000.000000     100.000000"
      ]
     },
     "execution_count": 4,
     "metadata": {},
     "output_type": "execute_result"
    }
   ],
   "source": [
    "df.describe()"
   ]
  },
  {
   "cell_type": "code",
   "execution_count": 5,
   "id": "886016fb",
   "metadata": {},
   "outputs": [
    {
     "data": {
      "text/plain": [
       "Index(['work_year', 'experience_level', 'employment_type', 'job_title',\n",
       "       'salary', 'salary_currency', 'salary_in_usd', 'employee_residence',\n",
       "       'remote_ratio', 'company_location', 'company_size'],\n",
       "      dtype='object')"
      ]
     },
     "execution_count": 5,
     "metadata": {},
     "output_type": "execute_result"
    }
   ],
   "source": [
    "df.columns"
   ]
  },
  {
   "cell_type": "markdown",
   "id": "cb1a16ee",
   "metadata": {},
   "source": [
    "#### b) Plot the distribution of the salaries in USD"
   ]
  },
  {
   "cell_type": "code",
   "execution_count": 6,
   "id": "2f79f045",
   "metadata": {},
   "outputs": [
    {
     "data": {
      "image/png": "[encoded data removed]",
      "text/plain": [
       "<Figure size 1200x600 with 1 Axes>"
      ]
     },
     "metadata": {},
     "output_type": "display_data"
    }
   ],
   "source": [
    "import matplotlib.pyplot as plt\n",
    "\n",
    "\n",
    "# Create figure for plotting\n",
    "plt.figure(figsize=(12, 6))\n",
    "plt.hist(df[\"salary_in_usd\"], bins=30)\n",
    "plt.title(\"Salary Distribution in USD\")\n",
    "plt.xlabel(\"Salary (USD)\")\n",
    "plt.ylabel(\"Number of Jobs\")\n",
    "plt.grid(True, linestyle=\"--\", alpha=0.7)\n",
    "plt.show()"
   ]
  },
  {
   "cell_type": "markdown",
   "id": "944d1add",
   "metadata": {},
   "source": [
    "#### c) How many job postings are there for each job title? Take the tenth most common job title and plot a bar chart of the number of job postings for that title"
   ]
  },
  {
   "cell_type": "code",
   "execution_count": 7,
   "id": "beeb5ca9",
   "metadata": {},
   "outputs": [
    {
     "data": {
      "text/plain": [
       "job_title\n",
       "Data Scientist               18751\n",
       "Software Engineer            16948\n",
       "Data Engineer                16352\n",
       "Data Analyst                 13779\n",
       "Engineer                     11004\n",
       "Machine Learning Engineer     8887\n",
       "Manager                       7811\n",
       "Analyst                       5396\n",
       "Research Scientist            3460\n",
       "Product Manager               2576\n",
       "Name: count, dtype: int64"
      ]
     },
     "execution_count": 7,
     "metadata": {},
     "output_type": "execute_result"
    }
   ],
   "source": [
    "title_counts = df[\"job_title\"].value_counts()\n",
    "title_counts.head(10)"
   ]
  },
  {
   "cell_type": "code",
   "execution_count": 8,
   "id": "1cd1af22",
   "metadata": {},
   "outputs": [
    {
     "name": "stdout",
     "output_type": "stream",
     "text": [
      "Product Manager\n",
      "2576 job postings related to Product Manager\n"
     ]
    }
   ],
   "source": [
    "# index picks the 10th most common job title(0-based index)\n",
    "# iloc picks the 10th most common count(number of job postings)\n",
    "tenth_most_common_title = title_counts.index[9]\n",
    "tenth_most_common_count = title_counts.iloc[9]\n",
    "\n",
    "print(tenth_most_common_title)\n",
    "print(f\"{tenth_most_common_count} job postings related to {tenth_most_common_title}\")\n",
    "\n"
   ]
  },
  {
   "cell_type": "code",
   "execution_count": 9,
   "id": "33f33707",
   "metadata": {},
   "outputs": [
    {
     "data": {
      "image/png": "[encoded data removed]",
      "text/plain": [
       "<Figure size 1200x600 with 1 Axes>"
      ]
     },
     "metadata": {},
     "output_type": "display_data"
    }
   ],
   "source": [
    "plt.figure(figsize=(12, 6))\n",
    "plt.bar(tenth_most_common_title, tenth_most_common_count, color=\"purple\",edgecolor=\"yellow\")\n",
    "plt.title(f\"Number of Job Postings for {tenth_most_common_title}\")\n",
    "plt.ylabel(\"Number of Job Postings\")\n",
    "plt.tight_layout()\n",
    "plt.show()"
   ]
  },
  {
   "cell_type": "code",
   "execution_count": 10,
   "id": "ac6eadc2",
   "metadata": {},
   "outputs": [
    {
     "name": "stdout",
     "output_type": "stream",
     "text": [
      "job_title\n",
      "Data Scientist               18751\n",
      "Software Engineer            16948\n",
      "Data Engineer                16352\n",
      "Data Analyst                 13779\n",
      "Engineer                     11004\n",
      "Machine Learning Engineer     8887\n",
      "Manager                       7811\n",
      "Analyst                       5396\n",
      "Research Scientist            3460\n",
      "Product Manager               2576\n",
      "Name: count, dtype: int64\n"
     ]
    }
   ],
   "source": [
    "top_ten_titles = title_counts.head(10)\n",
    "print(top_ten_titles)"
   ]
  },
  {
   "cell_type": "code",
   "execution_count": 11,
   "id": "f061dd6e",
   "metadata": {},
   "outputs": [
    {
     "data": {
      "image/png": "[encoded data removed]",
      "text/plain": [
       "<Figure size 1200x600 with 1 Axes>"
      ]
     },
     "metadata": {},
     "output_type": "display_data"
    }
   ],
   "source": [
    "colors = [\n",
    "    \"orange\" if title == tenth_most_common_title else \"blue\" for title in top_ten_titles.index\n",
    "]\n",
    "\n",
    "plt.figure(figsize=(12, 6))\n",
    "plt.bar(top_ten_titles.index, top_ten_titles.values, color=colors, edgecolor=\"black\")\n",
    "\n",
    "plt.title(\"Top 10 Job Titles by Number of Postings\\nYellow: 10th Most Common Title. Blue: Other Titles\")\n",
    "plt.ylabel(\"Number of Job Postings\")\n",
    "plt.xticks(rotation=45, ha=\"right\")\n",
    "plt.tight_layout()\n",
    "plt.show()"
   ]
  },
  {
   "cell_type": "markdown",
   "id": "53dd74fe",
   "metadata": {},
   "source": [
    "d) Create a dataframe that contains the following columns: job_title, experience_level, median_salary_usd, mean_salary_usd, mean_salary_sek. Sort the dataframe by mean_salary_sek."
   ]
  },
  {
   "cell_type": "code",
   "execution_count": 12,
   "id": "4e551d98",
   "metadata": {},
   "outputs": [
    {
     "data": {
      "text/html": [
       "<div>\n",
       "<style scoped>\n",
       "    .dataframe tbody tr th:only-of-type {\n",
       "        vertical-align: middle;\n",
       "    }\n",
       "\n",
       "    .dataframe tbody tr th {\n",
       "        vertical-align: top;\n",
       "    }\n",
       "\n",
       "    .dataframe thead th {\n",
       "        text-align: right;\n",
       "    }\n",
       "</style>\n",
       "<table border=\"1\" class=\"dataframe\">\n",
       "  <thead>\n",
       "    <tr style=\"text-align: right;\">\n",
       "      <th></th>\n",
       "      <th>job_title</th>\n",
       "      <th>experience_level</th>\n",
       "      <th>median_salary_usd</th>\n",
       "      <th>mean_salary_usd</th>\n",
       "      <th>mean_salary_sek</th>\n",
       "    </tr>\n",
       "  </thead>\n",
       "  <tbody>\n",
       "    <tr>\n",
       "      <th>1</th>\n",
       "      <td>AI Architect</td>\n",
       "      <td>MI</td>\n",
       "      <td>800000.0</td>\n",
       "      <td>800000.000000</td>\n",
       "      <td>8.400000e+06</td>\n",
       "    </tr>\n",
       "    <tr>\n",
       "      <th>815</th>\n",
       "      <td>Research Team Lead</td>\n",
       "      <td>SE</td>\n",
       "      <td>450000.0</td>\n",
       "      <td>450000.000000</td>\n",
       "      <td>4.725000e+06</td>\n",
       "    </tr>\n",
       "    <tr>\n",
       "      <th>728</th>\n",
       "      <td>Principal Data Scientist</td>\n",
       "      <td>EX</td>\n",
       "      <td>416000.0</td>\n",
       "      <td>416000.000000</td>\n",
       "      <td>4.368000e+06</td>\n",
       "    </tr>\n",
       "    <tr>\n",
       "      <th>92</th>\n",
       "      <td>Analytics Engineering Manager</td>\n",
       "      <td>SE</td>\n",
       "      <td>399880.0</td>\n",
       "      <td>399880.000000</td>\n",
       "      <td>4.198740e+06</td>\n",
       "    </tr>\n",
       "    <tr>\n",
       "      <th>463</th>\n",
       "      <td>Data Science Tech Lead</td>\n",
       "      <td>SE</td>\n",
       "      <td>375000.0</td>\n",
       "      <td>375000.000000</td>\n",
       "      <td>3.937500e+06</td>\n",
       "    </tr>\n",
       "    <tr>\n",
       "      <th>...</th>\n",
       "      <td>...</td>\n",
       "      <td>...</td>\n",
       "      <td>...</td>\n",
       "      <td>...</td>\n",
       "      <td>...</td>\n",
       "    </tr>\n",
       "    <tr>\n",
       "      <th>27</th>\n",
       "      <td>AI Product Lead</td>\n",
       "      <td>SE</td>\n",
       "      <td>177590.0</td>\n",
       "      <td>199057.857143</td>\n",
       "      <td>2.090107e+06</td>\n",
       "    </tr>\n",
       "    <tr>\n",
       "      <th>846</th>\n",
       "      <td>Site Reliability Engineer</td>\n",
       "      <td>SE</td>\n",
       "      <td>180745.0</td>\n",
       "      <td>198565.400602</td>\n",
       "      <td>2.084937e+06</td>\n",
       "    </tr>\n",
       "    <tr>\n",
       "      <th>748</th>\n",
       "      <td>Product Designer</td>\n",
       "      <td>SE</td>\n",
       "      <td>188800.0</td>\n",
       "      <td>198403.608696</td>\n",
       "      <td>2.083238e+06</td>\n",
       "    </tr>\n",
       "    <tr>\n",
       "      <th>930</th>\n",
       "      <td>Technical Writer</td>\n",
       "      <td>SE</td>\n",
       "      <td>136500.0</td>\n",
       "      <td>198297.272727</td>\n",
       "      <td>2.082121e+06</td>\n",
       "    </tr>\n",
       "    <tr>\n",
       "      <th>779</th>\n",
       "      <td>Quantitative Developer</td>\n",
       "      <td>SE</td>\n",
       "      <td>189500.0</td>\n",
       "      <td>197566.666667</td>\n",
       "      <td>2.074450e+06</td>\n",
       "    </tr>\n",
       "  </tbody>\n",
       "</table>\n",
       "<p>100 rows × 5 columns</p>\n",
       "</div>"
      ],
      "text/plain": [
       "                         job_title experience_level  median_salary_usd  \\\n",
       "1                     AI Architect               MI           800000.0   \n",
       "815             Research Team Lead               SE           450000.0   \n",
       "728       Principal Data Scientist               EX           416000.0   \n",
       "92   Analytics Engineering Manager               SE           399880.0   \n",
       "463         Data Science Tech Lead               SE           375000.0   \n",
       "..                             ...              ...                ...   \n",
       "27                 AI Product Lead               SE           177590.0   \n",
       "846      Site Reliability Engineer               SE           180745.0   \n",
       "748               Product Designer               SE           188800.0   \n",
       "930               Technical Writer               SE           136500.0   \n",
       "779         Quantitative Developer               SE           189500.0   \n",
       "\n",
       "     mean_salary_usd  mean_salary_sek  \n",
       "1      800000.000000     8.400000e+06  \n",
       "815    450000.000000     4.725000e+06  \n",
       "728    416000.000000     4.368000e+06  \n",
       "92     399880.000000     4.198740e+06  \n",
       "463    375000.000000     3.937500e+06  \n",
       "..               ...              ...  \n",
       "27     199057.857143     2.090107e+06  \n",
       "846    198565.400602     2.084937e+06  \n",
       "748    198403.608696     2.083238e+06  \n",
       "930    198297.272727     2.082121e+06  \n",
       "779    197566.666667     2.074450e+06  \n",
       "\n",
       "[100 rows x 5 columns]"
      ]
     },
     "execution_count": 12,
     "metadata": {},
     "output_type": "execute_result"
    }
   ],
   "source": [
    "usd_to_sek = 10.5  # Example rate, adjust as needed\n",
    "\n",
    "salary_stats = (\n",
    "    df.groupby([\"job_title\", \"experience_level\"])[\"salary_in_usd\"]\n",
    "    .agg(median_salary_usd=\"median\", mean_salary_usd=\"mean\")\n",
    "    .reset_index()\n",
    ")\n",
    "\n",
    "salary_stats[\"mean_salary_sek\"] = salary_stats[\"mean_salary_usd\"] * usd_to_sek\n",
    "\n",
    "salary_stats = salary_stats.sort_values(by=\"mean_salary_sek\", ascending=False)\n",
    "\n",
    "salary_stats.head(100)"
   ]
  }
 ],
 "metadata": {
  "kernelspec": {
   "display_name": "AI_Engineering_Edwin_Lindblom",
   "language": "python",
   "name": "python3"
  },
  "language_info": {
   "codemirror_mode": {
    "name": "ipython",
    "version": 3
   },
   "file_extension": ".py",
   "mimetype": "text/x-python",
   "name": "python",
   "nbconvert_exporter": "python",
   "pygments_lexer": "ipython3",
   "version": "3.11.9"
  }
 },
 "nbformat": 4,
 "nbformat_minor": 5
}
