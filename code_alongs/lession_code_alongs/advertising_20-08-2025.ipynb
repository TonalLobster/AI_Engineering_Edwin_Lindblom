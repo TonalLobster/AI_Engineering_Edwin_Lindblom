{
 "cells": [
  {
   "cell_type": "markdown",
   "id": "8371bbc1",
   "metadata": {},
   "source": [
    "link for learning how statistical learning works"
   ]
  },
  {
   "cell_type": "markdown",
   "id": "8847b338",
   "metadata": {},
   "source": [
    "https://www.statlearning.com/"
   ]
  }
 ],
 "metadata": {
  "language_info": {
   "name": "python"
  }
 },
 "nbformat": 4,
 "nbformat_minor": 5
}
