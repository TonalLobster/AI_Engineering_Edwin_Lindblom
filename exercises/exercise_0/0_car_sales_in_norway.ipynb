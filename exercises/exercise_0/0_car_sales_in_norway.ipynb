{
 "cells": [
  {
   "cell_type": "markdown",
   "id": "642fa417",
   "metadata": {},
   "source": [
    "# Car sales in Norway - emissions and trends\n",
    "URL: https://www.kaggle.com/datasets/dmi3kno/newcarsalesnorway/data\n",
    "\n",
    "Go to kaggle and download this dataset. In this exercise we'll work with norway_new_car_sales_by_month.csv\n",
    "\n",
    "  a) Do some EDA with info, find out column names, shape of dataset, describe method to get summary descriptive statistics.\n",
    "\n",
    "  b) Draw a line chart of quantity for each year. Is there a year that should be skipped?\n",
    "\n",
    "  c) Draw a line chart of average CO2 emissions for same years that as in b)\n",
    "\n",
    "  d) Draw a line chart of all years and months for import\n",
    "\n",
    "  e) Draw a line chart of all years and months for average CO2 emissions\n",
    "\n",
    "  f) Draw a line chart of all years and months for electric cars import where it's relevant.\n",
    "\n",
    "  g) Draw a line chart of average diesel share per year\n",
    "\n",
    "  h) Discuss some findings with a friend based on this dataset, and do plot more graphs"
   ]
  }
 ],
 "metadata": {
  "language_info": {
   "name": "python"
  }
 },
 "nbformat": 4,
 "nbformat_minor": 5
}
