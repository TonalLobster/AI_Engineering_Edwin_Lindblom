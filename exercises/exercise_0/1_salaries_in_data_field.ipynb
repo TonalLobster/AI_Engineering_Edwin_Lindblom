{
 "cells": [
  {
   "cell_type": "markdown",
   "id": "68f26dec",
   "metadata": {},
   "source": [
    "# Salaries in data field\n",
    "\n",
    "URL: https://www.kaggle.com/datasets/adilshamim8/salaries-for-data-science-jobs\n",
    "\n",
    "Go to kaggle and download this dataset on job salaries in the data field. In this exercise it is many cases easier to solve the exercises if you combine duckdb with pandas for analysis.\n",
    "\n",
    "  a) Start with some simple EDA, check summary statistics, info, columns etc\n",
    "\n",
    "  b) Plot the distribution of the salaries in USD.\n",
    "\n",
    "  c) How many job postings are there for each job title? Take the tenth most common job title and plot a bar chart of the number of job postings for that title.\n",
    "\n",
    "  d) Create a dataframe that contains the following columns: job_title, experience_level, median_salary_usd, mean_salary_usd, mean_salary_sek. Sort the dataframe by mean_salary_sek.\n",
    "\n",
    "  f) Create a column with salary in SEK per month and make the distribution of salaries in SEK per month for all job postings\n",
    "\n",
    "  g) Now create distributions of monthly SEK based on different experience levels, do you see any trends?\n",
    "\n",
    "  h) Find median monthly swedish salary for more common job_titles. Think what common may mean here.\n",
    "\n",
    "  i) Join the country_codes.csv to the dataset get the actual country names. Find the median monthly salary in SEK for each country and the number of job postings."
   ]
  }
 ],
 "metadata": {
  "language_info": {
   "name": "python"
  }
 },
 "nbformat": 4,
 "nbformat_minor": 5
}
